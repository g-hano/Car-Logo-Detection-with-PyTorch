{
 "cells": [
  {
   "cell_type": "markdown",
   "id": "7c38bad6-fe04-4889-9a55-1cf444cd4d4b",
   "metadata": {
    "jp-MarkdownHeadingCollapsed": true
   },
   "source": [
    "## 0. Imports"
   ]
  },
  {
   "cell_type": "code",
   "execution_count": 2,
   "id": "e3348d07-0605-43a5-91b7-da52c892aab5",
   "metadata": {},
   "outputs": [],
   "source": [
    "import torch\n",
    "from torch import nn as nn"
   ]
  },
  {
   "cell_type": "code",
   "execution_count": 3,
   "id": "0f97312d-e8b5-48e1-b51e-fc8ad6dd8c6f",
   "metadata": {},
   "outputs": [],
   "source": [
    "import os\n",
    "import xml.etree.ElementTree as ET\n",
    "import numpy as np\n",
    "from PIL import Image\n",
    "from torch.utils.data import Dataset, DataLoader"
   ]
  },
  {
   "cell_type": "code",
   "execution_count": 4,
   "id": "15087fbd-ff34-4221-bbcc-6261b6e06bc3",
   "metadata": {},
   "outputs": [],
   "source": [
    "import torchvision.transforms as transforms \n",
    "import torch.optim as optim"
   ]
  },
  {
   "cell_type": "markdown",
   "id": "d854bb94-2fe7-4b3b-b653-0758acf32f88",
   "metadata": {
    "jp-MarkdownHeadingCollapsed": true
   },
   "source": [
    "## 1. Conv Neural Network"
   ]
  },
  {
   "cell_type": "code",
   "execution_count": 6,
   "id": "7e84ad26-7839-467f-b68f-f5e251484bbb",
   "metadata": {},
   "outputs": [],
   "source": [
    "class CarBrand(nn.Module):\n",
    "    def __init__(self, num_classes):\n",
    "        super(CarBrand, self).__init__()\n",
    "        \n",
    "        # 'in_channels': color channels in images, since images in dataset are greyscaled, in_channels start from 1\n",
    "        self.conv1 = nn.Conv2d(in_channels=1, out_channels=32, kernel_size=3, padding=1)\n",
    "        self.conv2 = nn.Conv2d(in_channels=32, out_channels=64, kernel_size=3, padding=1)\n",
    "        self.conv3 = nn.Conv2d(in_channels=64, out_channels=128, kernel_size=3, padding=1)\n",
    "\n",
    "        self.relu = nn.ReLU()\n",
    "        self.maxpool = nn.MaxPool2d(kernel_size=2, stride=2)\n",
    "        \n",
    "        # 128: comes from \"conv3\", 124: image size is 300x300, 1: only greyscaled, not RGB\n",
    "        self.fc1 = nn.Linear(128 * (300//8) * (300//8) * 1, 256)  # Adjust the input size\n",
    "        #self.fc2_class = nn.Linear(512, num_classes)         \n",
    "        self.fc2_class = nn.Linear(256, num_classes) \n",
    "           \n",
    "        \n",
    "    def forward(self, x):\n",
    "        x = x.unsqueeze(1) #\n",
    "        x = self.relu(self.conv1(x))\n",
    "        x = self.maxpool(x)       \n",
    "        x = self.relu(self.conv2(x))\n",
    "        x = self.maxpool(x)        \n",
    "        x = self.relu(self.conv3(x))\n",
    "        x = self.maxpool(x)\n",
    "        x = x.view(x.size(0), -1)\n",
    "        x = self.relu(self.fc1(x))\n",
    "        brand_pred = self.fc2_class(x)   \n",
    "        return brand_pred"
   ]
  },
  {
   "cell_type": "markdown",
   "id": "058b067b-2e17-4b6b-8515-9a3a31c2aca6",
   "metadata": {
    "jp-MarkdownHeadingCollapsed": true
   },
   "source": [
    "## 2. Dataset class"
   ]
  },
  {
   "cell_type": "code",
   "execution_count": 7,
   "id": "6e8b58b1-3352-4816-bb11-4ee4987ab4bc",
   "metadata": {},
   "outputs": [],
   "source": [
    "class CarBrandDataset(Dataset):\n",
    "    def __init__(self, data_dir, transform=None):\n",
    "        self.data_dir = data_dir\n",
    "        self.transform = transform\n",
    "        self.image_paths = [filename for filename in os.listdir(data_dir) if filename.endswith('.jpg')]\n",
    "    \n",
    "    def __len__(self):\n",
    "        return len(self.image_paths)\n",
    "        \n",
    "    def __getitem__(self, index):\n",
    "        image_path = os.path.join(self.data_dir, self.image_paths[index])\n",
    "        \n",
    "        xml_path = os.path.splitext(image_path)[0] + '.xml'\n",
    "        \n",
    "        image = Image.open(image_path).convert('L') # convert to greyscale\n",
    "        if self.transform:\n",
    "            data = (2, 0.5, -10, -0.5, 1.5, 20)\n",
    "            image = image.transform(image.size, Image.AFFINE, data)\n",
    "        \n",
    "        # parse XML\n",
    "        tree = ET.parse(xml_path)\n",
    "        root = tree.getroot()\n",
    "        \n",
    "        # extract label information from XML \n",
    "        brand_label_mapping = {\n",
    "            'bmw': 0,\n",
    "            'citroen': 1,\n",
    "            'mercedes': 2,\n",
    "            'maserati': 3,\n",
    "            'audi': 4,\n",
    "            'honda': 5\n",
    "        }\n",
    "\n",
    "        for object in  root.findall('object'):\n",
    "            brand_label_name = object.find('name')\n",
    "            brand_label_str = brand_label_name.text.strip()  # Clean any extra whitespace\n",
    "            # print(\"Extracted label string:\", brand_label_str)\n",
    "            \n",
    "            brand_label = brand_label_mapping.get(brand_label_str, -1)\n",
    "            # print(\"Mapped label:\", brand_label) \n",
    "            # print(\"XML Root Tag:\", root.tag)\n",
    "            # print(\"Final mapped label:\", brand_label)\n",
    "\n",
    "        image_np = np.asarray(image, dtype=np.float32)\n",
    "        \n",
    "        return image_np, brand_label"
   ]
  },
  {
   "cell_type": "markdown",
   "id": "beabc1cf-a2c0-41b1-96e6-568b1b1d2560",
   "metadata": {
    "jp-MarkdownHeadingCollapsed": true
   },
   "source": [
    "## 3. Read images and .xml files"
   ]
  },
  {
   "cell_type": "code",
   "execution_count": 14,
   "id": "55a23dc7-b8bd-485f-916b-247463f0f936",
   "metadata": {},
   "outputs": [
    {
     "name": "stdout",
     "output_type": "stream",
     "text": [
      "xmin:22,ymin170,xmax:38,ymax212\n"
     ]
    }
   ],
   "source": [
    "# Read the image and the XML file\n",
    "image = cv2.imread('data/1.jpg')\n",
    "xml_file = open('data/1.xml', 'r')\n",
    "tree = xml.etree.ElementTree.parse(xml_file)\n",
    "root = tree.getroot()\n",
    "\n",
    "# Get the bounding box coordinates\n",
    "for object in root.findall('object'):\n",
    "    bndbox = object.find('bndbox')\n",
    "    xmin = int(bndbox.find('xmin').text)\n",
    "    ymin = int(bndbox.find('ymin').text)\n",
    "    xmax = int(bndbox.find('xmax').text)\n",
    "    ymax = int(bndbox.find('ymax').text)\n",
    "    \n",
    "    print(f\"xmin:{xmin},ymin{ymin},xmax:{xmax},ymax{ymax}\")"
   ]
  },
  {
   "cell_type": "markdown",
   "id": "a7de8e09-929e-4e7e-859b-1776ccc8f19e",
   "metadata": {
    "jp-MarkdownHeadingCollapsed": true
   },
   "source": [
    "## 4. Image Preprocess"
   ]
  },
  {
   "cell_type": "code",
   "execution_count": 40,
   "id": "c1dab550-130f-4d4f-836a-7da95d759370",
   "metadata": {},
   "outputs": [],
   "source": [
    "transform = transforms.Compose([\n",
    "    transforms.Grayscale(num_output_channels=1),\n",
    "    transforms.Resize(300),\n",
    "    transforms.ToTensor() \n",
    "])"
   ]
  },
  {
   "cell_type": "markdown",
   "id": "b6c23f34-03d4-4551-9187-cd5a2ba82381",
   "metadata": {
    "jp-MarkdownHeadingCollapsed": true
   },
   "source": [
    "## 5. Get ready for training"
   ]
  },
  {
   "cell_type": "code",
   "execution_count": 41,
   "id": "9b24d4d7-2897-48fa-9610-8fb9bddc2218",
   "metadata": {},
   "outputs": [],
   "source": [
    "data_dir = \"splitted_data/train\"\n",
    "dataset = CarBrandDataset(data_dir, transform=transform)\n",
    "batch_size = 32\n",
    "dataloader = DataLoader(dataset, batch_size=batch_size, shuffle=True)"
   ]
  },
  {
   "cell_type": "code",
   "execution_count": 9,
   "id": "a19d5f1c-df2f-4854-992e-1bec55e1432b",
   "metadata": {},
   "outputs": [],
   "source": [
    "car_brands: int = 6\n",
    "num_epochs: int = 10"
   ]
  },
  {
   "cell_type": "markdown",
   "id": "2b3bebee-29e4-41ef-a4e2-3c14a572939f",
   "metadata": {},
   "source": [
    "### 5.1 Training Loop"
   ]
  },
  {
   "cell_type": "code",
   "execution_count": null,
   "id": "c8ad93dd-bd0c-4ec3-85e2-f1aab37188b3",
   "metadata": {},
   "outputs": [],
   "source": []
  },
  {
   "cell_type": "code",
   "execution_count": 53,
   "id": "c90713bc-03f7-4d57-9e4a-f6d1f2e3c1b9",
   "metadata": {
    "collapsed": true,
    "jupyter": {
     "outputs_hidden": true,
     "source_hidden": true
    }
   },
   "outputs": [
    {
     "name": "stderr",
     "output_type": "stream",
     "text": [
      "C:\\Users\\Cihan\\AppData\\Local\\Temp\\ipykernel_22860\\89705713.py:18: DeprecationWarning: AFFINE is deprecated and will be removed in Pillow 10 (2023-07-01). Use Transform.AFFINE instead.\n",
      "  image = image.transform(image.size, Image.AFFINE, data)\n"
     ]
    },
    {
     "name": "stdout",
     "output_type": "stream",
     "text": [
      "Epoch [1/10] Loss: 149.747064 Accuracy: 16.75%\n",
      "Epoch [2/10] Loss: 1.905744 Accuracy: 24.37%\n",
      "Epoch [3/10] Loss: 1.702682 Accuracy: 27.92%\n",
      "Epoch [4/10] Loss: 1.366035 Accuracy: 46.70%\n",
      "Epoch [5/10] Loss: 0.860271 Accuracy: 66.50%\n",
      "Epoch [6/10] Loss: 0.649375 Accuracy: 79.70%\n",
      "Epoch [7/10] Loss: 0.337961 Accuracy: 89.85%\n",
      "Epoch [8/10] Loss: 0.193826 Accuracy: 93.40%\n",
      "Epoch [9/10] Loss: 0.155901 Accuracy: 94.42%\n",
      "Epoch [10/10] Loss: 0.021717 Accuracy: 100.00%\n"
     ]
    },
    {
     "ename": "NameError",
     "evalue": "name 'confusion_matrix' is not defined",
     "output_type": "error",
     "traceback": [
      "\u001b[1;31m---------------------------------------------------------------------------\u001b[0m",
      "\u001b[1;31mNameError\u001b[0m                                 Traceback (most recent call last)",
      "Cell \u001b[1;32mIn[53], line 37\u001b[0m\n\u001b[0;32m     34\u001b[0m     \u001b[38;5;28mprint\u001b[39m(\u001b[38;5;124mf\u001b[39m\u001b[38;5;124m\"\u001b[39m\u001b[38;5;124mEpoch [\u001b[39m\u001b[38;5;132;01m{\u001b[39;00mepoch\u001b[38;5;241m+\u001b[39m\u001b[38;5;241m1\u001b[39m\u001b[38;5;132;01m}\u001b[39;00m\u001b[38;5;124m/\u001b[39m\u001b[38;5;132;01m{\u001b[39;00mnum_epochs\u001b[38;5;132;01m}\u001b[39;00m\u001b[38;5;124m] Loss: \u001b[39m\u001b[38;5;132;01m{\u001b[39;00mepoch_loss\u001b[38;5;132;01m:\u001b[39;00m\u001b[38;5;124m.6f\u001b[39m\u001b[38;5;132;01m}\u001b[39;00m\u001b[38;5;124m Accuracy: \u001b[39m\u001b[38;5;132;01m{\u001b[39;00mepoch_accuracy\u001b[38;5;132;01m:\u001b[39;00m\u001b[38;5;124m.2%\u001b[39m\u001b[38;5;132;01m}\u001b[39;00m\u001b[38;5;124m\"\u001b[39m)\n\u001b[0;32m     36\u001b[0m \u001b[38;5;66;03m# Calculate the confusion matrix\u001b[39;00m\n\u001b[1;32m---> 37\u001b[0m conf_matrix \u001b[38;5;241m=\u001b[39m \u001b[43mconfusion_matrix\u001b[49m(true_labels, all_predicted_labels)\n\u001b[0;32m     39\u001b[0m \u001b[38;5;66;03m# Plot the confusion matrix\u001b[39;00m\n\u001b[0;32m     40\u001b[0m plt\u001b[38;5;241m.\u001b[39mfigure(figsize\u001b[38;5;241m=\u001b[39m(\u001b[38;5;241m8\u001b[39m, \u001b[38;5;241m6\u001b[39m))\n",
      "\u001b[1;31mNameError\u001b[0m: name 'confusion_matrix' is not defined"
     ]
    }
   ],
   "source": [
    "model = CarBrand(num_classes=car_brands)\n",
    "criterion_class = nn.CrossEntropyLoss()\n",
    "optimizer = optim.Adam(model.parameters(), lr=0.001)\n",
    "\n",
    "for epoch in range(num_epochs):\n",
    "    running_loss = 0.0\n",
    "    correct_predictions = 0 ##\n",
    "    total_samples = 0 ##\n",
    "    all_predicted_labels = []  # Store all predicted labels\n",
    "    true_labels = []  # Store all true labels\n",
    "    \n",
    "    for images, brand_labels in dataloader:\n",
    "        optimizer.zero_grad()\n",
    "\n",
    "        brand_pred = model(images)\n",
    "\n",
    "        loss_brand = criterion_class(brand_pred, brand_labels)\n",
    " \n",
    "        loss_brand.backward()\n",
    "        optimizer.step()\n",
    "\n",
    "        running_loss += loss_brand.item()\n",
    "        _, predicted = torch.max(brand_pred, 1)  # Get predicted class index ##\n",
    "        correct_predictions += (predicted == brand_labels).sum().item() ##\n",
    "        total_samples += brand_labels.size(0) ##\n",
    "\n",
    "        all_predicted_labels.extend(predicted.cpu().numpy())\n",
    "        true_labels.extend(brand_labels.cpu().numpy())\n",
    "        \n",
    "    epoch_loss = running_loss / len(dataloader) ##\n",
    "    epoch_accuracy = correct_predictions / total_samples ##\n",
    "    \n",
    "    # print(f\"Epoch [{epoch+1}/{num_epochs}] Loss: {running_loss / len(dataloader)}\")\n",
    "    print(f\"Epoch [{epoch+1}/{num_epochs}] Loss: {epoch_loss:.6f} Accuracy: {epoch_accuracy:.2%}\")\n",
    "\n"
   ]
  },
  {
   "cell_type": "markdown",
   "id": "dcb1552f-a9a4-4d23-a344-735def41896c",
   "metadata": {
    "jp-MarkdownHeadingCollapsed": true
   },
   "source": [
    "### 5.2 Confusing Matrix and Loss-Accuracy Graph"
   ]
  },
  {
   "cell_type": "code",
   "execution_count": 55,
   "id": "bd176d80-63f1-489e-95f5-9f14666bb2af",
   "metadata": {},
   "outputs": [
    {
     "data": {
      "image/png": "[encoded data removed]",
      "text/plain": [
       "<Figure size 800x600 with 2 Axes>"
      ]
     },
     "metadata": {},
     "output_type": "display_data"
    }
   ],
   "source": [
    "from sklearn.metrics import confusion_matrix\n",
    "import seaborn as sns\n",
    "\n",
    "brand_label_mapping = {\n",
    "            'bmw': 0,\n",
    "            'citroen': 1,\n",
    "            'mercedes': 2,\n",
    "            'maserati': 3,\n",
    "            'audi': 4,\n",
    "            'honda': 5\n",
    "        }\n",
    "\n",
    "# Calculate the confusion matrix\n",
    "conf_matrix = confusion_matrix(true_labels, all_predicted_labels)\n",
    "\n",
    "# Plot the confusion matrix\n",
    "plt.figure(figsize=(8, 6))\n",
    "sns.heatmap(conf_matrix, annot=True, fmt=\"d\", cmap=\"Blues\", xticklabels=brand_label_mapping, yticklabels=brand_label_mapping)\n",
    "plt.title('Confusion Matrix')\n",
    "plt.xlabel('Predicted Labels')\n",
    "plt.ylabel('True Labels')\n",
    "plt.show()"
   ]
  },
  {
   "cell_type": "code",
   "execution_count": 56,
   "id": "f9e54317-ede3-4845-983f-86a65322197b",
   "metadata": {},
   "outputs": [
    {
     "data": {
      "image/png": "[encoded data removed]",
      "text/plain": [
       "<Figure size 640x480 with 2 Axes>"
      ]
     },
     "metadata": {},
     "output_type": "display_data"
    }
   ],
   "source": [
    "import matplotlib.pyplot as plt\n",
    "\n",
    "# Data\n",
    "epochs = list(range(1, 11))\n",
    "loss_values = [149.747064, 1.905744, 1.702682, 1.366035, 0.860271, 0.649375, 0.337961, 0.193826, 0.155901, 0.021717]\n",
    "accuracy_values = [16.75, 24.37, 27.92, 46.70, 66.50, 79.70, 89.85, 93.40, 94.42, 100.00]\n",
    "\n",
    "# Create the plot\n",
    "fig, ax1 = plt.subplots()\n",
    "\n",
    "ax1.set_xlabel('Epoch')\n",
    "ax1.set_ylabel('Loss', color='tab:blue')\n",
    "ax1.plot(epochs, loss_values, color='tab:blue', marker='o', label='Loss')\n",
    "ax1.tick_params(axis='y', labelcolor='tab:blue')\n",
    "\n",
    "ax2 = ax1.twinx()\n",
    "ax2.set_ylabel('Accuracy (%)', color='tab:orange')\n",
    "ax2.plot(epochs, accuracy_values, color='tab:orange', marker='s', label='Accuracy')\n",
    "ax2.tick_params(axis='y', labelcolor='tab:orange')\n",
    "\n",
    "fig.tight_layout()\n",
    "plt.title('Training Progress')\n",
    "plt.show()\n"
   ]
  },
  {
   "cell_type": "markdown",
   "id": "71b0d5dd-13e4-4431-8df2-1387b66494cc",
   "metadata": {
    "jp-MarkdownHeadingCollapsed": true
   },
   "source": [
    "## 6. Testing"
   ]
  },
  {
   "cell_type": "code",
   "execution_count": 58,
   "id": "2b20879e-2620-4a2e-afcd-005ed2e7c115",
   "metadata": {},
   "outputs": [
    {
     "name": "stderr",
     "output_type": "stream",
     "text": [
      "C:\\Users\\Cihan\\AppData\\Local\\Temp\\ipykernel_22860\\89705713.py:18: DeprecationWarning: AFFINE is deprecated and will be removed in Pillow 10 (2023-07-01). Use Transform.AFFINE instead.\n",
      "  image = image.transform(image.size, Image.AFFINE, data)\n"
     ]
    },
    {
     "name": "stdout",
     "output_type": "stream",
     "text": [
      "Test Accuracy: 97.94%\n"
     ]
    }
   ],
   "source": [
    "test_data_dir = \"splitted_data/test\"\n",
    "test_dataset = CarBrandDataset(test_data_dir, transform=transform)  # Use the same transform as during training\n",
    "test_dataloader = DataLoader(test_dataset, batch_size=batch_size, shuffle=False)\n",
    "model.eval()  # Set the model to evaluation mode\n",
    "\n",
    "correct_predictions = 0\n",
    "total_samples = 0\n",
    "\n",
    "with torch.no_grad():\n",
    "    for images, brand_labels in test_dataloader:\n",
    "        brand_pred = model(images)\n",
    "        _, predicted = torch.max(brand_pred, 1)\n",
    "        correct_predictions += (predicted == brand_labels).sum().item()\n",
    "        total_samples += brand_labels.size(0)\n",
    "\n",
    "test_accuracy = correct_predictions / total_samples\n",
    "print(f\"Test Accuracy: {test_accuracy:.2%}\")\n"
   ]
  },
  {
   "cell_type": "markdown",
   "id": "896851c8-e036-4a52-b51c-c64488dc6ad6",
   "metadata": {
    "jp-MarkdownHeadingCollapsed": true
   },
   "source": [
    "### 6.1 Test it with custom images"
   ]
  },
  {
   "cell_type": "code",
   "execution_count": 82,
   "id": "67dc2cbb-1a37-4a81-9587-e79fccc0280b",
   "metadata": {},
   "outputs": [
    {
     "name": "stdout",
     "output_type": "stream",
     "text": [
      "Predicted brand: mercedes\n"
     ]
    }
   ],
   "source": [
    "from PIL import Image\n",
    "model = CarBrand(num_classes=car_brands)\n",
    "\n",
    "# Define transformations\n",
    "transform = transforms.Compose([\n",
    "    transforms.Grayscale(num_output_channels=1),\n",
    "    transforms.Resize((300, 300)),\n",
    "    transforms.ToTensor(),\n",
    "])\n",
    "\n",
    "# Load your own image\n",
    "# image_path = \"test_honda.jpg\"\n",
    "# image_path = \"test_audi.jpg\"\n",
    "image_path = \"test_mercedes.jpg\"\n",
    "image = Image.open(image_path)\n",
    "\n",
    "# Apply transformations \n",
    "input_image = transform(image)\n",
    "input_image = input_image.view(1, 300, 300)\n",
    "\n",
    "with torch.no_grad():\n",
    "    output = model(input_image)\n",
    "    _, predicted_class = torch.max(output, 1)\n",
    "\n",
    "# Map the predicted class to its label\n",
    "brand_label_mapping = {\n",
    "    0: 'bmw',\n",
    "    1: 'citroen',\n",
    "    2: 'mercedes',\n",
    "    3: 'maserati',\n",
    "    4: 'audi',\n",
    "    5: 'honda'\n",
    "}\n",
    "\n",
    "predicted_label = brand_label_mapping[predicted_class.item()]\n",
    "print(f\"Predicted brand: {predicted_label}\")"
   ]
  },
  {
   "cell_type": "markdown",
   "id": "f1db1ab8-68fd-477d-aadc-5f4bd0cf9c44",
   "metadata": {},
   "source": [
    "## 7. Save the model"
   ]
  },
  {
   "cell_type": "code",
   "execution_count": null,
   "id": "f7d4279d-be69-450f-bae7-f1bcfda0cb0d",
   "metadata": {
    "jupyter": {
     "source_hidden": true
    }
   },
   "outputs": [],
   "source": [
    "# Save model checkpoint\n",
    "checkpoint = {\n",
    "    'model_state_dict': model.state_dict(),\n",
    "    'criterion_state_dict': criterion_class.state_dict(),\n",
    "    'optimizer_state_dict': optimizer.state_dict(),\n",
    "}\n",
    "\n",
    "torch.save(checkpoint, 'model_checkpoint.pth')\n"
   ]
  },
  {
   "cell_type": "markdown",
   "id": "b114a669-14b3-45e8-96fc-c30e15b87001",
   "metadata": {},
   "source": [
    "## 8. Load the model"
   ]
  },
  {
   "cell_type": "code",
   "execution_count": null,
   "id": "0c31267e-c7d4-4d19-ab36-9aec1468052c",
   "metadata": {
    "jupyter": {
     "source_hidden": true
    }
   },
   "outputs": [],
   "source": [
    "# Load model checkpoint\n",
    "checkpoint = torch.load('model_checkpoint.pth')\n",
    "\n",
    "# Create a new model instance\n",
    "loaded_model = CarBrand(num_classes=car_brands)\n",
    "\n",
    "# Load model state dictionary\n",
    "loaded_model.load_state_dict(checkpoint['model_state_dict'])\n",
    "\n",
    "# Create a new criterion instance\n",
    "loaded_criterion = nn.CrossEntropyLoss()\n",
    "\n",
    "# Load criterion state dictionary\n",
    "loaded_criterion.load_state_dict(checkpoint['criterion_state_dict'])\n",
    "\n",
    "# Create a new optimizer instance\n",
    "loaded_optimizer = optim.Adam(loaded_model.parameters(), lr=0.001)\n",
    "\n",
    "# Load optimizer state dictionary\n",
    "loaded_optimizer.load_state_dict(checkpoint['optimizer_state_dict'])\n"
   ]
  }
 ],
 "metadata": {
  "kernelspec": {
   "display_name": "pytorchNN",
   "language": "python",
   "name": "pytorchnn"
  },
  "language_info": {
   "codemirror_mode": {
    "name": "ipython",
    "version": 3
   },
   "file_extension": ".py",
   "mimetype": "text/x-python",
   "name": "python",
   "nbconvert_exporter": "python",
   "pygments_lexer": "ipython3",
   "version": "3.11.3"
  }
 },
 "nbformat": 4,
 "nbformat_minor": 5
}
